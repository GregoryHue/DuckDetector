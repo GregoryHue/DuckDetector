{
 "cells": [
  {
   "cell_type": "markdown",
   "id": "ae339b25-ee4c-4c88-be99-59fd971dafc1",
   "metadata": {},
   "source": [
    "# DCGAN Tutorial"
   ]
  },
  {
   "cell_type": "code",
   "execution_count": null,
   "id": "108152dd-3cbe-44aa-9809-eb37717d7987",
   "metadata": {},
   "outputs": [],
   "source": []
  }
 ],
 "metadata": {
  "kernelspec": {
   "display_name": "Python 3 (ipykernel)",
   "language": "python",
   "name": "python3"
  },
  "language_info": {
   "codemirror_mode": {
    "name": "ipython",
    "version": 3
   },
   "file_extension": ".py",
   "mimetype": "text/x-python",
   "name": "python",
   "nbconvert_exporter": "python",
   "pygments_lexer": "ipython3",
   "version": "3.10.6"
  }
 },
 "nbformat": 4,
 "nbformat_minor": 5
}
